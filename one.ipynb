{
 "cells": [
  {
   "cell_type": "code",
   "execution_count": null,
   "metadata": {},
   "outputs": [],
   "source": [
    "# Import libraries\n",
    "import pandas as pd\n",
    "import numpy as np\n",
    "import re\n",
    "import unicodedata\n",
    "import joblib\n",
    "import matplotlib.pyplot as plt\n",
    "from sklearn.feature_extraction.text import TfidfVectorizer\n",
    "from sklearn.metrics.pairwise import cosine_similarity\n",
    "from sklearn.model_selection import train_test_split, GridSearchCV, cross_val_score\n",
    "from sklearn.ensemble import RandomForestClassifier\n",
    "from sklearn.preprocessing import StandardScaler\n",
    "from sklearn.decomposition import PCA\n",
    "from sklearn.metrics import classification_report, confusion_matrix, ConfusionMatrixDisplay\n",
    "from sentence_transformers import SentenceTransformer\n",
    "import shap\n",
    "\n",
    "# Step 1: Data Preprocessing & Cleaning\n",
    "def clean_text(text):\n",
    "    \"\"\"Clean the text by normalizing, removing special characters, and converting to lowercase.\"\"\"\n",
    "    text = unicodedata.normalize(\"NFKD\", text)  # Fix encoding issues\n",
    "    text = re.sub(r'[^a-zA-Z0-9., ]', '', text)  # Remove special characters\n",
    "    text = text.lower().strip()  # Convert to lowercase\n",
    "    return text\n",
    "\n",
    "# Load dataset\n",
    "resume_df = pd.read_csv(\"UpdatedResumeDataSet.csv\")  # Replace with your file path\n",
    "job_df = pd.read_csv(\"job_descriptions.csv\")  # Replace with your file path\n",
    "\n",
    "# Combine relevant text fields\n",
    "resume_df['Combined_Text'] = resume_df['Category'] + \" \" + resume_df['Resume']\n",
    "job_df['Combined_Text'] = job_df['Job Title'] + \" \" + job_df['Job Description'] + \" \" + job_df['skills']\n",
    "\n",
    "# Clean text fields\n",
    "resume_df['Combined_Text'] = resume_df['Combined_Text'].apply(clean_text)\n",
    "job_df['Combined_Text'] = job_df['Combined_Text'].apply(clean_text)"
   ]
  },
  {
   "cell_type": "code",
   "execution_count": null,
   "metadata": {},
   "outputs": [],
   "source": [
    "# Step 2: BERT-based Embedding for Semantic Matching\n",
    "model = SentenceTransformer('all-MiniLM-L6-v2')\n",
    "\n",
    "# Create embeddings for resume and job description\n",
    "resume_embeddings = model.encode(resume_df['Combined_Text'].tolist())\n",
    "job_embeddings = model.encode(job_df['Combined_Text'].tolist())\n",
    "\n",
    "# Compute cosine similarity on embeddings\n",
    "similarity_matrix = cosine_similarity(resume_embeddings, job_embeddings)\n",
    "\n",
    "# Find the best match for each resume\n",
    "matches = similarity_matrix.argmax(axis=1)"
   ]
  }
 ],
 "metadata": {
  "language_info": {
   "name": "python"
  }
 },
 "nbformat": 4,
 "nbformat_minor": 2
}
